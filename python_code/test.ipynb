{
 "cells": [
  {
   "cell_type": "code",
   "execution_count": 4,
   "metadata": {},
   "outputs": [],
   "source": [
    "import numpy as np\n",
    "import pandas as pd\n",
    "from sklearn.datasets import make_classification\n",
    "from sklearn.model_selection import train_test_split\n",
    "\n",
    "# Parameters\n",
    "n_samples = 50000\n",
    "n_features = 1024\n",
    "n_informative = 10  # Increased to handle 10 classes and clusters\n",
    "n_classes = 10\n",
    "test_size = 500\n",
    "\n",
    "# Generate the dataset\n",
    "X, y = make_classification(n_samples=n_samples, n_features=n_features, n_informative=n_informative, \n",
    "                           n_classes=n_classes, random_state=42)\n",
    "\n",
    "# Split into training and test sets\n",
    "X_train, X_test, y_train, y_test = train_test_split(X, y, test_size=test_size, random_state=42)\n",
    "\n",
    "# Save training and test data to CSV\n",
    "pd.DataFrame(X_train).to_csv('train_features.csv', index=False, header=False)\n",
    "pd.DataFrame(y_train).to_csv('train_labels.csv', index=False, header=False)\n",
    "pd.DataFrame(X_test).to_csv('test_features.csv', index=False, header=False)\n",
    "pd.DataFrame(y_test).to_csv('test_labels.csv', index=False, header=False)\n"
   ]
  },
  {
   "cell_type": "code",
   "execution_count": null,
   "metadata": {},
   "outputs": [],
   "source": []
  },
  {
   "cell_type": "code",
   "execution_count": null,
   "metadata": {},
   "outputs": [],
   "source": []
  },
  {
   "cell_type": "code",
   "execution_count": 1,
   "metadata": {},
   "outputs": [
    {
     "name": "stdout",
     "output_type": "stream",
     "text": [
      "Accuracy: 23.40%\n"
     ]
    }
   ],
   "source": [
    "import pandas as pd\n",
    "from sklearn.metrics import accuracy_score\n",
    "\n",
    "# Load the predictions and true labels\n",
    "y_pred = pd.read_csv('/home/arsalan/Desktop/knn_cuda_project/build/predictions.csv', header=None).values.flatten()\n",
    "y_test = pd.read_csv('test_labels.csv', header=None).values.flatten()\n",
    "\n",
    "# Calculate accuracy\n",
    "accuracy = accuracy_score(y_test, y_pred)\n",
    "print(f\"Accuracy: {accuracy * 100:.2f}%\")\n"
   ]
  },
  {
   "cell_type": "code",
   "execution_count": 2,
   "metadata": {},
   "outputs": [
    {
     "name": "stdout",
     "output_type": "stream",
     "text": [
      "sklearn KNN Accuracy: 23.40%\n"
     ]
    }
   ],
   "source": [
    "import numpy as np\n",
    "import pandas as pd\n",
    "from sklearn.neighbors import KNeighborsClassifier\n",
    "from sklearn.metrics import accuracy_score\n",
    "\n",
    "# Load the training and test data from CSV files\n",
    "X_train = pd.read_csv('train_features.csv', header=None).values\n",
    "y_train = pd.read_csv('train_labels.csv', header=None).values.flatten()\n",
    "X_test = pd.read_csv('test_features.csv', header=None).values\n",
    "y_test = pd.read_csv('test_labels.csv', header=None).values.flatten()\n",
    "\n",
    "# Initialize the KNN classifier with the same number of neighbors (K = 5)\n",
    "knn = KNeighborsClassifier(n_neighbors=5)\n",
    "\n",
    "# Fit the model on the training data\n",
    "knn.fit(X_train, y_train)\n",
    "\n",
    "# Predict on the test data\n",
    "y_pred = knn.predict(X_test)\n",
    "\n",
    "# Calculate accuracy\n",
    "accuracy = accuracy_score(y_test, y_pred)\n",
    "print(f\"sklearn KNN Accuracy: {accuracy * 100:.2f}%\")\n"
   ]
  },
  {
   "cell_type": "code",
   "execution_count": null,
   "metadata": {},
   "outputs": [],
   "source": []
  }
 ],
 "metadata": {
  "kernelspec": {
   "display_name": "vlm",
   "language": "python",
   "name": "python3"
  },
  "language_info": {
   "codemirror_mode": {
    "name": "ipython",
    "version": 3
   },
   "file_extension": ".py",
   "mimetype": "text/x-python",
   "name": "python",
   "nbconvert_exporter": "python",
   "pygments_lexer": "ipython3",
   "version": "3.10.14"
  }
 },
 "nbformat": 4,
 "nbformat_minor": 2
}
